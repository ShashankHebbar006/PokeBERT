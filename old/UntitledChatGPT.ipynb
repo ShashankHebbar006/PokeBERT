{
 "cells": [
  {
   "cell_type": "code",
   "execution_count": null,
   "metadata": {},
   "outputs": [
    {
     "name": "stderr",
     "output_type": "stream",
     "text": [
      "C:\\Users\\shash\\AppData\\Local\\Temp\\ipykernel_12104\\45649979.py:17: DeprecationWarning: executable_path has been deprecated, please pass in a Service object\n",
      "  browser = webdriver.Chrome(ChromeDriverManager().install())\n"
     ]
    },
    {
     "ename": "AttributeError",
     "evalue": "'NoneType' object has no attribute 'find'",
     "output_type": "error",
     "traceback": [
      "\u001b[1;31m---------------------------------------------------------------------------\u001b[0m",
      "\u001b[1;31mAttributeError\u001b[0m                            Traceback (most recent call last)",
      "Cell \u001b[1;32mIn[3], line 43\u001b[0m\n\u001b[0;32m     41\u001b[0m ability \u001b[38;5;241m=\u001b[39m strategy_section\u001b[38;5;241m.\u001b[39mfind(\u001b[38;5;124m\"\u001b[39m\u001b[38;5;124ma\u001b[39m\u001b[38;5;124m\"\u001b[39m, class_\u001b[38;5;241m=\u001b[39m\u001b[38;5;124m\"\u001b[39m\u001b[38;5;124mAbilityLink\u001b[39m\u001b[38;5;124m\"\u001b[39m)\u001b[38;5;241m.\u001b[39mtext\u001b[38;5;241m.\u001b[39mstrip() \u001b[38;5;28;01mif\u001b[39;00m strategy_section \u001b[38;5;129;01mand\u001b[39;00m strategy_section\u001b[38;5;241m.\u001b[39mfind(\u001b[38;5;124m\"\u001b[39m\u001b[38;5;124ma\u001b[39m\u001b[38;5;124m\"\u001b[39m, class_\u001b[38;5;241m=\u001b[39m\u001b[38;5;124m\"\u001b[39m\u001b[38;5;124mAbilityLink\u001b[39m\u001b[38;5;124m\"\u001b[39m) \u001b[38;5;28;01melse\u001b[39;00m \u001b[38;5;124m\"\u001b[39m\u001b[38;5;124m\"\u001b[39m\n\u001b[0;32m     42\u001b[0m nature \u001b[38;5;241m=\u001b[39m strategy_section\u001b[38;5;241m.\u001b[39mfind(\u001b[38;5;124m\"\u001b[39m\u001b[38;5;124mspan\u001b[39m\u001b[38;5;124m\"\u001b[39m, class_\u001b[38;5;241m=\u001b[39m\u001b[38;5;124m\"\u001b[39m\u001b[38;5;124mText-nature\u001b[39m\u001b[38;5;124m\"\u001b[39m)\u001b[38;5;241m.\u001b[39mtext\u001b[38;5;241m.\u001b[39mstrip() \u001b[38;5;28;01mif\u001b[39;00m strategy_section \u001b[38;5;129;01mand\u001b[39;00m strategy_section\u001b[38;5;241m.\u001b[39mfind(\u001b[38;5;124m\"\u001b[39m\u001b[38;5;124mspan\u001b[39m\u001b[38;5;124m\"\u001b[39m, class_\u001b[38;5;241m=\u001b[39m\u001b[38;5;124m\"\u001b[39m\u001b[38;5;124mText-nature\u001b[39m\u001b[38;5;124m\"\u001b[39m) \u001b[38;5;28;01melse\u001b[39;00m \u001b[38;5;124m\"\u001b[39m\u001b[38;5;124m\"\u001b[39m\n\u001b[1;32m---> 43\u001b[0m ev_section \u001b[38;5;241m=\u001b[39m \u001b[43mstrategy_section\u001b[49m\u001b[38;5;241;43m.\u001b[39;49m\u001b[43mfind\u001b[49m(\u001b[38;5;124m\"\u001b[39m\u001b[38;5;124mspan\u001b[39m\u001b[38;5;124m\"\u001b[39m, class_\u001b[38;5;241m=\u001b[39m\u001b[38;5;124m\"\u001b[39m\u001b[38;5;124mText-evs\u001b[39m\u001b[38;5;124m\"\u001b[39m)\n\u001b[0;32m     44\u001b[0m evs \u001b[38;5;241m=\u001b[39m ev_section\u001b[38;5;241m.\u001b[39mtext\u001b[38;5;241m.\u001b[39mstrip() \u001b[38;5;28;01mif\u001b[39;00m ev_section \u001b[38;5;28;01melse\u001b[39;00m \u001b[38;5;124m\"\u001b[39m\u001b[38;5;124m\"\u001b[39m\n\u001b[0;32m     45\u001b[0m tera_type \u001b[38;5;241m=\u001b[39m strategy_section\u001b[38;5;241m.\u001b[39mfind(\u001b[38;5;124m\"\u001b[39m\u001b[38;5;124ma\u001b[39m\u001b[38;5;124m\"\u001b[39m, class_\u001b[38;5;241m=\u001b[39m\u001b[38;5;124m\"\u001b[39m\u001b[38;5;124mType\u001b[39m\u001b[38;5;124m\"\u001b[39m)\u001b[38;5;241m.\u001b[39mtext\u001b[38;5;241m.\u001b[39mstrip() \u001b[38;5;28;01mif\u001b[39;00m strategy_section \u001b[38;5;129;01mand\u001b[39;00m strategy_section\u001b[38;5;241m.\u001b[39mfind(\u001b[38;5;124m\"\u001b[39m\u001b[38;5;124ma\u001b[39m\u001b[38;5;124m\"\u001b[39m, class_\u001b[38;5;241m=\u001b[39m\u001b[38;5;124m\"\u001b[39m\u001b[38;5;124mType\u001b[39m\u001b[38;5;124m\"\u001b[39m) \u001b[38;5;28;01melse\u001b[39;00m \u001b[38;5;124m\"\u001b[39m\u001b[38;5;124m\"\u001b[39m\n",
      "\u001b[1;31mAttributeError\u001b[0m: 'NoneType' object has no attribute 'find'"
     ]
    }
   ],
   "source": [
    "from selenium import webdriver\n",
    "from selenium.webdriver.chrome.service import Service\n",
    "from selenium.webdriver.chrome.options import Options\n",
    "from webdriver_manager.chrome import ChromeDriverManager\n",
    "from bs4 import BeautifulSoup\n",
    "import json\n",
    "import time\n",
    "\n",
    "# Set up Selenium WebDriver options\n",
    "chrome_options = Options()\n",
    "chrome_options.add_argument(\"--headless\")  # Run in headless mode\n",
    "chrome_options.add_argument(\"--disable-gpu\")\n",
    "chrome_options.add_argument(\"--no-sandbox\")\n",
    "\n",
    "# Initialize WebDriver\n",
    "service = Service(\"/path/to/chromedriver\")  # Update path to chromedriver\n",
    "browser = webdriver.Chrome(ChromeDriverManager().install())\n",
    "\n",
    "url = \"https://www.smogon.com/dex/sv/pokemon/dragonite/\"\n",
    "browser.get(url)\n",
    "time.sleep(3)  # Allow time for the page to fully load\n",
    "\n",
    "# Parse the page with BeautifulSoup\n",
    "soup = BeautifulSoup(browser.page_source, \"html.parser\")\n",
    "browser.quit()\n",
    "\n",
    "# Extract relevant details\n",
    "gen = soup.find(\"h2\", class_=\"DexHeader-gen\").text.strip() if soup.find(\"h2\", class_=\"DexHeader-gen\") else \"\"\n",
    "tier = soup.find(\"a\", class_=\"PokemonPage-tierLabel\").text.strip() if soup.find(\"a\", class_=\"PokemonPage-tierLabel\") else \"\"\n",
    "\n",
    "strategy_section = soup.find(\"section\", class_=\"PokemonOverviewStrategy\")\n",
    "strategy_name = strategy_section.find(\"h2\").text.strip() if strategy_section and strategy_section.find(\"h2\") else \"\"\n",
    "\n",
    "moves = strategy_section.find_all(\"a\", class_=\"MoveLink\") if strategy_section else []\n",
    "move_1 = moves[0].text.strip() if len(moves) > 0 else \"\"\n",
    "move_2 = moves[1].text.strip() if len(moves) > 1 else \"\"\n",
    "move_3 = moves[2].text.strip() if len(moves) > 2 else \"\"\n",
    "move_4 = moves[3].text.strip() if len(moves) > 3 else \"\"\n",
    "\n",
    "item = strategy_section.find(\"a\", class_=\"ItemLink\").text.strip() if strategy_section and strategy_section.find(\"a\", class_=\"ItemLink\") else \"\"x\n",
    "ability = strategy_section.find(\"a\", class_=\"AbilityLink\").text.strip() if strategy_section and strategy_section.find(\"a\", class_=\"AbilityLink\") else \"\"\n",
    "nature = strategy_section.find(\"span\", class_=\"Text-nature\").text.strip() if strategy_section and strategy_section.find(\"span\", class_=\"Text-nature\") else \"\"\n",
    "ev_section = strategy_section.find(\"span\", class_=\"Text-evs\")\n",
    "evs = ev_section.text.strip() if ev_section else \"\"\n",
    "tera_type = strategy_section.find(\"a\", class_=\"Type\").text.strip() if strategy_section and strategy_section.find(\"a\", class_=\"Type\") else \"\"\n",
    "description = strategy_section.find(\"p\").text.strip() if strategy_section and strategy_section.find(\"p\") else \"\"\n",
    "\n",
    "# Construct JSON output\n",
    "data = {\n",
    "    \"gen\": gen,\n",
    "    \"tier\": tier,\n",
    "    \"strategy name\": strategy_name,\n",
    "    \"move 1\": move_1,\n",
    "    \"move 2\": move_2,\n",
    "    \"move 3\": move_3,\n",
    "    \"move 4\": move_4,\n",
    "    \"item\": item,\n",
    "    \"ability\": ability,\n",
    "    \"nature\": nature,\n",
    "    \"evs\": evs,\n",
    "    \"tera type\": tera_type,\n",
    "    \"description\": description if description else None,\n",
    "}\n",
    "\n",
    "# Print JSON output\n",
    "print(json.dumps(data, indent=4))\n"
   ]
  }
 ],
 "metadata": {
  "kernelspec": {
   "display_name": "Python 3",
   "language": "python",
   "name": "python3"
  },
  "language_info": {
   "codemirror_mode": {
    "name": "ipython",
    "version": 3
   },
   "file_extension": ".py",
   "mimetype": "text/x-python",
   "name": "python",
   "nbconvert_exporter": "python",
   "pygments_lexer": "ipython3",
   "version": "3.11.5"
  }
 },
 "nbformat": 4,
 "nbformat_minor": 2
}
